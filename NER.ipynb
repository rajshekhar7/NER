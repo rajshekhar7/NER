{
 "cells": [
  {
   "cell_type": "code",
   "execution_count": null,
   "metadata": {},
   "outputs": [],
   "source": [
    "### FOR 3 CLASS\n",
    "# java  -mx2g -cp stanford-ner.jar edu.stanford.nlp.ie.NERServer -port 9199 -loadClassifier english.all.3class.distsim.crf.ser.gz\n",
    "\n",
    "### FOR 7 CLASS\n",
    "# java  -mx2g -cp stanford-ner.jar edu.stanford.nlp.ie.NERServer -port 9199 -loadClassifier english.muc.7class.distsim.crf.ser.gz\n",
    "\n",
    "from sner import Ner\n",
    "\n",
    "tagger = Ner(host='localhost',port=9199)"
   ]
  },
  {
   "cell_type": "code",
   "execution_count": null,
   "metadata": {},
   "outputs": [],
   "source": [
    "import pandas as pd \n",
    "  \n",
    "df = pd.read_csv(\"tweets.csv\")"
   ]
  },
  {
   "cell_type": "code",
   "execution_count": null,
   "metadata": {},
   "outputs": [],
   "source": [
    "from nltk.tokenize import WordPunctTokenizer\n",
    "from bs4 import BeautifulSoup\n",
    "import re\n",
    "\n",
    "tok = WordPunctTokenizer()\n",
    "# pat1 = r'@[A-Za-z0-9]+'\n",
    "# pat2 = r'https?://[A-Za-z0-9./]+'\n",
    "pat = r'https?://[A-Za-z0-9./]+'\n",
    "# combined_pat = r'|'.join((pat1, pat2))\n",
    "\n",
    "def tweet_cleaner(text):\n",
    "    soup = BeautifulSoup(text, 'lxml')\n",
    "    souped = soup.get_text()\n",
    "    stripped = re.sub(pat, '', souped)\n",
    "    try:\n",
    "        clean = stripped.decode(\"utf-8-sig\").replace(u\"\\ufffd\", \"?\")\n",
    "    except:\n",
    "        clean = stripped\n",
    "    letters_only = re.sub(\"[^a-zA-Z]\", \" \", clean)\n",
    "#     lower_case = letters_only.lower()\n",
    "#     words = tok.tokenize(lower_case)\n",
    "    words = tok.tokenize(letters_only)\n",
    "    \n",
    "    return (\" \".join(words)).strip()"
   ]
  },
  {
   "cell_type": "code",
   "execution_count": null,
   "metadata": {},
   "outputs": [],
   "source": [
    "df['clean_text'] = df['full_text'].apply(tweet_cleaner)\n",
    "df.head()"
   ]
  },
  {
   "cell_type": "code",
   "execution_count": null,
   "metadata": {},
   "outputs": [],
   "source": [
    "def get_who(text):\n",
    "\n",
    "    classified_text = tagger.get_entities(text)\n",
    "    who = []\n",
    "    \n",
    "    for i, j  in classified_text:\n",
    "        if j == 'PERSON':\n",
    "            who.append(i)\n",
    "    \n",
    "    if not who:\n",
    "        return \"\"\n",
    "    \n",
    "    whoString = \", \".join(who)\n",
    "    \n",
    "    return whoString\n",
    "\n",
    "\n",
    "def get_where(text):\n",
    "    \n",
    "    classified_text = tagger.get_entities(text) \n",
    "    where = []\n",
    "    \n",
    "    for i, j  in classified_text:\n",
    "        if j == 'LOCATION':\n",
    "            where.append(i)\n",
    "\n",
    "    if not where:\n",
    "        return \"\"\n",
    "    \n",
    "    whoString = \", \".join(where)\n",
    "    \n",
    "    return whoString"
   ]
  },
  {
   "cell_type": "code",
   "execution_count": null,
   "metadata": {},
   "outputs": [],
   "source": [
    "df['who'] = df['clean_text'].apply(get_who)\n",
    "df['where'] = df['clean_text'].apply(get_where)"
   ]
  },
  {
   "cell_type": "code",
   "execution_count": null,
   "metadata": {},
   "outputs": [],
   "source": [
    "df.head()"
   ]
  }
 ],
 "metadata": {
  "kernelspec": {
   "display_name": "Python 3",
   "language": "python",
   "name": "python3"
  },
  "language_info": {
   "codemirror_mode": {
    "name": "ipython",
    "version": 3
   },
   "file_extension": ".py",
   "mimetype": "text/x-python",
   "name": "python",
   "nbconvert_exporter": "python",
   "pygments_lexer": "ipython3",
   "version": "3.7.3"
  }
 },
 "nbformat": 4,
 "nbformat_minor": 4
}
